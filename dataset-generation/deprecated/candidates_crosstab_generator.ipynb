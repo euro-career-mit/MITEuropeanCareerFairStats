{
 "cells": [
  {
   "cell_type": "code",
   "execution_count": null,
   "metadata": {},
   "outputs": [],
   "source": [
    "import pandas as pd"
   ]
  },
  {
   "cell_type": "code",
   "execution_count": null,
   "metadata": {},
   "outputs": [],
   "source": [
    "import numpy as np"
   ]
  },
  {
   "cell_type": "code",
   "execution_count": null,
   "metadata": {},
   "outputs": [],
   "source": [
    "df = pd.read_csv(\"./2024/Typeform_Responses_2024.csv\", low_memory=False)\n",
    "#print(\"Read the .CSV file.\")\n",
    "\n",
    "df.size, df.shape"
   ]
  },
  {
   "cell_type": "code",
   "execution_count": null,
   "metadata": {},
   "outputs": [],
   "source": [
    "df.size"
   ]
  },
  {
   "cell_type": "code",
   "execution_count": null,
   "metadata": {},
   "outputs": [],
   "source": [
    "df.shape"
   ]
  },
  {
   "cell_type": "code",
   "execution_count": null,
   "metadata": {},
   "outputs": [],
   "source": [
    "set([])"
   ]
  },
  {
   "cell_type": "markdown",
   "metadata": {},
   "source": [
    "# Field of study"
   ]
  },
  {
   "cell_type": "code",
   "execution_count": null,
   "metadata": {},
   "outputs": [],
   "source": [
    "# In this list, the last items has the priority to override\n",
    "fieldRanking = ['marketing', 'industrial', 'supply chain', 'law', 'chemical', 'finance', 'economic',\n",
    "     'political', 'business', 'management', 'mba', 'civil', 'physics', 'mechanical', 'material', 'aerospace',\n",
    "     'electrical', 'electronic', 'computer', 'bio', 'analytics', 'data', 'artificial', 'machine learning']"
   ]
  },
  {
   "cell_type": "code",
   "execution_count": null,
   "metadata": {},
   "outputs": [],
   "source": [
    "# Let us see the possible (unique) values as a set, in the given dataset\n",
    "\n",
    "# fieldString = \"Major\"\n",
    "fieldString = \"What is your major?\"\n",
    "\n",
    "try:\n",
    "    set(df[fieldString])\n",
    "except:\n",
    "    fieldString = \"Major\" # capital \"Study\"\n",
    "    set(df[fieldString])"
   ]
  },
  {
   "cell_type": "code",
   "execution_count": null,
   "metadata": {},
   "outputs": [],
   "source": [
    "names = df[fieldString].unique()[:-1]\n",
    "# names[0].find('Computer Sciences')\n",
    "names_cs = [names[i] for i in range(len(names)) if names[i].find('Computer Sciences') != -1]\n",
    "names_eng = [names[i] for i in range(len(names)) if names[i].find('Engineering') != -1]\n"
   ]
  },
  {
   "cell_type": "code",
   "execution_count": null,
   "metadata": {},
   "outputs": [],
   "source": [
    "names_cs\n",
    "# for i in range(len(names)):\n",
    "#     if names[i].find('Computer Science') != -1:\n",
    "#         print(i)"
   ]
  },
  {
   "cell_type": "code",
   "execution_count": null,
   "metadata": {},
   "outputs": [],
   "source": [
    "#create new column\n",
    "mostRelevantField = [\"Other\"]*len(df)\n",
    "\n",
    "# for each candidate (row)\n",
    "for i in range(len(df)): \n",
    "    \n",
    "    # get candidate's fields of study\n",
    "    fieldsOfCandidate = df.loc[i, fieldString]\n",
    "    \n",
    "    if isinstance(fieldsOfCandidate, str):\n",
    "        # make lowercase if it is a string! \n",
    "        fieldsOfCandidate = fieldsOfCandidate.lower()\n",
    "        \n",
    "        # for each field (column) in the ranking list\n",
    "        for wantedColumn in fieldRanking: \n",
    "\n",
    "            if wantedColumn in fieldsOfCandidate:\n",
    "                mostRelevantField[i] = wantedColumn\n"
   ]
  },
  {
   "cell_type": "code",
   "execution_count": null,
   "metadata": {},
   "outputs": [],
   "source": [
    "mostRelevantField"
   ]
  },
  {
   "cell_type": "markdown",
   "metadata": {},
   "source": [
    "### For similar field names, use a single (unique) name"
   ]
  },
  {
   "cell_type": "code",
   "execution_count": null,
   "metadata": {},
   "outputs": [],
   "source": [
    "fieldSynonyms = {\n",
    "    \"artificial\": \"AI\",\n",
    "    \"machine learning\": \"AI\",\n",
    "    \n",
    "    \"data\": \"Data Science\",\n",
    "    \"analytics\": \"Data Science\",\n",
    "    \n",
    "    \"bio\": \"Biology\",\n",
    "    \n",
    "    \"computer\": \"CS\",\n",
    "    \n",
    "    \"aerospace\": \"Aero\",\n",
    "    \n",
    "    \"material\": \"Materials\",\n",
    "    \n",
    "    \"mechanical\": \"Mechanical Eng\",\n",
    "    \n",
    "    \"electrical\": \"Electrical Eng\",\n",
    "    \"electronic\": \"Electrical Eng\",\n",
    "    \n",
    "    \"physics\": \"Physics\",\n",
    "    \n",
    "    \"civil\": \"Civil Eng\",\n",
    "    \n",
    "    \"business\": \"Business\",\n",
    "    \"mba\": \"Business\",\n",
    "    \"management\": \"Business\",\n",
    "    \n",
    "    \"political\": \"Policital Sci\",\n",
    "    \n",
    "    \"economic\": \"Finance\",\n",
    "    \"finance\": \"Finance\",\n",
    "    \n",
    "    \"chemical\": \"Chemistry\",\n",
    "    \n",
    "    \"supply chain\": \"Industrial Eng\",\n",
    "    \"industrial\": \"Industrial Eng\",\n",
    "    \n",
    "    \"law\": \"Law\",\n",
    "    \n",
    "    \"marketing\": \"Marketing\",\n",
    "    \n",
    "}\n"
   ]
  },
  {
   "cell_type": "code",
   "execution_count": null,
   "metadata": {},
   "outputs": [],
   "source": [
    "replacementCount = 0\n",
    "\n",
    "# for each candidate\n",
    "for i in range(len(mostRelevantField)):\n",
    "\n",
    "    # if the candidate's field is in fieldSynonyms\n",
    "    if mostRelevantField[i] in fieldSynonyms:\n",
    "\n",
    "        # replace it with the more common field name\n",
    "        mostRelevantField[i] = fieldSynonyms[mostRelevantField[i]]\n",
    "        \n",
    "        replacementCount = replacementCount+1\n",
    "      \n",
    "print(str(replacementCount) + \" fields have been renamed!\")\n"
   ]
  },
  {
   "cell_type": "code",
   "execution_count": null,
   "metadata": {},
   "outputs": [],
   "source": [
    "df[\"mostRelevantField\"] = mostRelevantField"
   ]
  },
  {
   "cell_type": "markdown",
   "metadata": {},
   "source": [
    "# University name"
   ]
  },
  {
   "cell_type": "code",
   "execution_count": null,
   "metadata": {},
   "outputs": [],
   "source": [
    "#university_q = \"What school do you attend?\"\n",
    "#\n",
    "## List unique university names      \n",
    "#set(df[\"What school do you attend?\"])\n",
    "df['University'] = df['What school do you attend?'].combine_first(df['Other'])\n",
    "set(df['University'])"
   ]
  },
  {
   "cell_type": "code",
   "execution_count": null,
   "metadata": {},
   "outputs": [],
   "source": [
    "# In this list, the last items has the priority to override\n",
    "uniRanking = ['university of connecticut', 'worcester polytechnic', 'wpi',\n",
    "              'wellesley college', 'university of massachusetts boston', 'dartmouth', 'dartmouth college', 'dartmouth university',\n",
    "              'brandeis university', 'university of massachusetts amherst', 'boston college', 'tufts', 'tufts university',\n",
    "              'new york university', 'nyu',\n",
    "              'hult international', 'hult business', 'boston university', 'northeastern university', 'northeastern',\n",
    "              'harvard college', 'harvard university',\n",
    "              'massachusetts institute of technology', 'mit', 'smith college']"
   ]
  },
  {
   "cell_type": "code",
   "execution_count": null,
   "metadata": {},
   "outputs": [],
   "source": [
    "#create new column\n",
    "mostRelevantUni = [\"Other\"]*len(df)\n",
    "\n",
    "# for each candidate (row)\n",
    "for i in range(len(df)): \n",
    "    \n",
    "    # get candidate's fields of study\n",
    "    #unisOfCandidate = df.loc[i, \"What school do you attend?\"]\n",
    "    unisOfCandidate = df.loc[i, \"University\"]\n",
    "    \n",
    "    if isinstance(unisOfCandidate, str):\n",
    "        # make lowercase if it is a string! \n",
    "        unisOfCandidate = unisOfCandidate.lower()\n",
    "        \n",
    "        # for each field (column) in the ranking list\n",
    "        for wantedUniversity in uniRanking: \n",
    "\n",
    "            if wantedUniversity in unisOfCandidate:\n",
    "                mostRelevantUni[i] = wantedUniversity\n"
   ]
  },
  {
   "cell_type": "markdown",
   "metadata": {},
   "source": [
    "### For equivalent university names, use a single (unique) name"
   ]
  },
  {
   "cell_type": "code",
   "execution_count": null,
   "metadata": {},
   "outputs": [],
   "source": [
    "# In this list, the last items has the priority to override\n",
    "# uniRanking = ['university of connecticut', 'worcester polytechnic',\n",
    "#               'wellesley college', 'university of massachusetts boston', 'dartmouth college', 'dartmouth university',\n",
    "#               'brandeis university', 'university of massachusetts amherst', 'boston college', 'tufts university',\n",
    "#               'new york university', 'nyu',\n",
    "#               'hult international', 'hult business', 'boston university', 'northeastern university', 'northeastern',\n",
    "#               'harvard college', 'harvard university',\n",
    "#               'massachusetts institute of technology', 'mit', 'smith college']\n",
    "\n",
    "\n",
    "uniSynonyms = {\n",
    "    \"massachusetts institute of technology\": \"MIT\",\n",
    "    \"mit\": \"MIT\",\n",
    "    \n",
    "    \"harvard college\": \"Harvard\",\n",
    "    \"harvard university\": \"Harvard\",\n",
    "    \n",
    "    \"hult international\": \"Hult Business\",\n",
    "    \"hult business\": \"Hult Business\",\n",
    "    \n",
    "    \"northeastern university\": \"Northeastern\",\n",
    "    \"northeastern\": \"Northeastern\",\n",
    "    \n",
    "    \"boston university\": \"BU\",\n",
    "    \n",
    "    \"tufts\": \"Tufts\",\n",
    "    \"tufts university\": \"Tufts\",\n",
    "    \n",
    "    \"dartmouth\": \"Dartmouth\",\n",
    "    \"dartmouth university\": \"Dartmouth\",\n",
    "    \"dartmouth college\": \"Dartmouth\",\n",
    "    \n",
    "    \"new york university\": \"NYU\",\n",
    "    \"nyu\": \"NYU\",\n",
    "        \n",
    "    \"boston college\": \"Boston College\",\n",
    "    \n",
    "    \"brandeis university\": \"Brandeis\",\n",
    "    \"wellesley\": \"Wellesley\",\n",
    "    \"wellesley college\": \"Wellesley\",\n",
    "    \n",
    "    \"university of massachusetts amherst\": \"UMass Amherst\",\n",
    "    \n",
    "    \"university of massachusetts boston\": \"UMass Boston\",\n",
    "    \n",
    "    \n",
    "    \"worcester polytechnic\": \"WPI\",\n",
    "    \"wpi\": \"WPI\",\n",
    "    \n",
    "    \"university of connecticut\": \"UConn\",\n",
    "    \n",
    "    \"smith college\": \"Smith\"\n",
    "    \n",
    "}"
   ]
  },
  {
   "cell_type": "code",
   "execution_count": null,
   "metadata": {},
   "outputs": [],
   "source": [
    "replacementCount = 0\n",
    "\n",
    "# for each candidate\n",
    "for i in range(len(mostRelevantUni)):\n",
    "\n",
    "    # if the candidate's field is in fieldSynonyms\n",
    "    if mostRelevantUni[i] in uniSynonyms:\n",
    "\n",
    "        # replace it with the more common field name\n",
    "        mostRelevantUni[i] = uniSynonyms[mostRelevantUni[i]]\n",
    "        \n",
    "        replacementCount = replacementCount+1\n",
    "      \n",
    "print(str(replacementCount) + \" university names have been renamed!\")\n"
   ]
  },
  {
   "cell_type": "code",
   "execution_count": null,
   "metadata": {},
   "outputs": [],
   "source": [
    "df[\"mostRelevantUni\"] = mostRelevantUni"
   ]
  },
  {
   "cell_type": "code",
   "execution_count": null,
   "metadata": {},
   "outputs": [],
   "source": [
    "#Show the result\n",
    "pd.set_option('display.min_rows', 6)\n",
    "\n",
    "df"
   ]
  },
  {
   "cell_type": "markdown",
   "metadata": {},
   "source": [
    "# Highest degree"
   ]
  },
  {
   "cell_type": "code",
   "execution_count": null,
   "metadata": {},
   "outputs": [],
   "source": [
    "degreeRanking = ['high school', 'undergraduate','bachelor',\n",
    "     'master', 'mba', 'phd', 'doctorate',\n",
    "     'postdoc',  'post doc', 'md']"
   ]
  },
  {
   "cell_type": "code",
   "execution_count": null,
   "metadata": {},
   "outputs": [],
   "source": [
    "# List unique values\n",
    "# degreeFieldString = \"Current degree\"\n",
    "degreeFieldString = 'What degree program are you currently pursuing?'\n",
    "\n",
    "try:\n",
    "    set(df[degreeFieldString])\n",
    "except:\n",
    "    degreeFieldString = \"Current Degree\"\n",
    "    set(df[degreeFieldString])"
   ]
  },
  {
   "cell_type": "code",
   "execution_count": null,
   "metadata": {},
   "outputs": [],
   "source": [
    "# List unique degree names\n",
    "set(df[degreeFieldString])"
   ]
  },
  {
   "cell_type": "code",
   "execution_count": null,
   "metadata": {},
   "outputs": [],
   "source": [
    "#create new column\n",
    "highestDegree = [\"Other\"]*len(df)\n",
    "\n",
    "# for each candidate (row)\n",
    "for i in range(len(df)): \n",
    "    \n",
    "    # get candidate's fields of study\n",
    "    degreeOfCandidate = df.loc[i, degreeFieldString]\n",
    "    \n",
    "    if isinstance(degreeOfCandidate, str):\n",
    "        # make lowercase if it is a string! \n",
    "        degreeOfCandidate = degreeOfCandidate.lower()\n",
    "        \n",
    "        # for each field (column) in the ranking list\n",
    "        for preferredDegree in degreeRanking: \n",
    "\n",
    "            if preferredDegree in degreeOfCandidate:\n",
    "                highestDegree[i] = preferredDegree\n"
   ]
  },
  {
   "cell_type": "code",
   "execution_count": null,
   "metadata": {},
   "outputs": [],
   "source": [
    "degreeSynonyms = {\n",
    "    \"high school\": \"High school\",\n",
    "    \n",
    "    \"undergraduate\": \"Bachelors\",\n",
    "    \"bachelor\": \"Bachelors\",\n",
    "    \n",
    "    \"master\": \"Masters\",\n",
    "    \n",
    "    \"mba\": \"MBA\",\n",
    "    \n",
    "    'phd': \"PhD\",\n",
    "    'doctorate': \"PhD\",\n",
    "    \n",
    "    \"postdoc\": \"Postdoc\",\n",
    "    \"post doc\": \"Postdoc\",\n",
    "    \n",
    "    'md': \"MD\"\n",
    "}"
   ]
  },
  {
   "cell_type": "code",
   "execution_count": null,
   "metadata": {},
   "outputs": [],
   "source": [
    "replacementCount = 0\n",
    "\n",
    "# for each candidate\n",
    "for i in range(len(highestDegree)):\n",
    "\n",
    "    # if the candidate's field is in degreeSynonyms\n",
    "    if highestDegree[i] in degreeSynonyms:\n",
    "\n",
    "        # replace it with the more common name\n",
    "        highestDegree[i] = degreeSynonyms[highestDegree[i]]\n",
    "        \n",
    "        replacementCount = replacementCount+1\n",
    "      \n",
    "print(str(replacementCount) + \" degree names have been renamed!\")\n"
   ]
  },
  {
   "cell_type": "code",
   "execution_count": null,
   "metadata": {},
   "outputs": [],
   "source": [
    "df[\"highestDegree\"] = highestDegree"
   ]
  },
  {
   "cell_type": "code",
   "execution_count": null,
   "metadata": {},
   "outputs": [],
   "source": [
    "#Show the result\n",
    "pd.set_option('display.min_rows', 6)\n",
    "\n",
    "df"
   ]
  },
  {
   "cell_type": "markdown",
   "metadata": {},
   "source": [
    "# Get rid of other columns!"
   ]
  },
  {
   "cell_type": "code",
   "execution_count": null,
   "metadata": {},
   "outputs": [],
   "source": [
    "# columnsToStay = ['User ID',\n",
    "#                  'mostRelevantField',\n",
    "#                  'mostRelevantUni',\n",
    "#                  'highestDegree']\n",
    "\n",
    "columnsToStay = [\n",
    "                 'mostRelevantField',\n",
    "                 'mostRelevantUni',\n",
    "                 'highestDegree']"
   ]
  },
  {
   "cell_type": "code",
   "execution_count": null,
   "metadata": {},
   "outputs": [],
   "source": [
    "df = df[columnsToStay]"
   ]
  },
  {
   "cell_type": "code",
   "execution_count": null,
   "metadata": {},
   "outputs": [],
   "source": [
    "pd.set_option('display.min_rows', 10)\n",
    "df"
   ]
  },
  {
   "cell_type": "markdown",
   "metadata": {},
   "source": [
    "# Make it a grouped summary list"
   ]
  },
  {
   "cell_type": "code",
   "execution_count": null,
   "metadata": {},
   "outputs": [],
   "source": [
    "# Calculate number of records\n",
    "\n",
    "colums2group = ['mostRelevantUni', 'mostRelevantField', 'highestDegree']\n",
    "groupedCandidateNumbers = pd.DataFrame({'count': df.groupby(colums2group).size()})\n",
    "\n",
    "#Source: https://stackoverflow.com/a/10374456\n",
    "\n",
    "groupedCandidateNumbers"
   ]
  },
  {
   "cell_type": "code",
   "execution_count": null,
   "metadata": {},
   "outputs": [],
   "source": [
    "groupedCandidateNumbers = groupedCandidateNumbers.rename(index={'ONE': 'one'})"
   ]
  },
  {
   "cell_type": "code",
   "execution_count": null,
   "metadata": {},
   "outputs": [],
   "source": [
    "# Reset index for fields\n",
    "\n",
    "print(groupedCandidateNumbers.index)\n",
    "\n",
    "groupedCandidateNumbers = groupedCandidateNumbers.reset_index(level=[\"mostRelevantField\"])\n",
    "groupedCandidateNumbers = groupedCandidateNumbers.reset_index(level=[\"highestDegree\"]) # @ yue\n",
    "\n",
    "print(\"\\nNew index: \\n\")\n",
    "\n",
    "print(set(groupedCandidateNumbers.index))"
   ]
  },
  {
   "cell_type": "code",
   "execution_count": null,
   "metadata": {},
   "outputs": [],
   "source": [
    "print(groupedCandidateNumbers.index)"
   ]
  },
  {
   "cell_type": "code",
   "execution_count": null,
   "metadata": {},
   "outputs": [],
   "source": [
    "groupedCandidateNumbers[~groupedCandidateNumbers.index.duplicated()]"
   ]
  },
  {
   "cell_type": "code",
   "execution_count": null,
   "metadata": {},
   "outputs": [],
   "source": [
    "groupedCandidateNumbers[groupedCandidateNumbers.index.duplicated()]"
   ]
  },
  {
   "cell_type": "code",
   "execution_count": null,
   "metadata": {},
   "outputs": [],
   "source": [
    "# Change uni name order\n",
    "\n",
    "#Wellesley left out \n",
    "new_index = [\"MIT\", \"Harvard\", \"NYU\", \"Hult Business\",\n",
    "             \"Northeastern\", \"BU\", \"Tufts\", \"Dartmouth\",\n",
    "             \"Brandeis\", \"Boston College\", \n",
    "             #\"UMass Amherst\", \"UMass Boston\", \"WPI\", \"UConn\", \"Other\"\n",
    "             \"UMass Amherst\", \"UMass Boston\", \"WPI\", \"Other\"\n",
    "            ]\n",
    "\n",
    "new_index.reverse()"
   ]
  },
  {
   "cell_type": "code",
   "execution_count": null,
   "metadata": {},
   "outputs": [],
   "source": [
    "# Show the difference between sets\n",
    "list(set(new_index) - set(groupedCandidateNumbers.index))\n",
    "# list(set(new_index) - set(a for a, b in groupedCandidateNumbers.index))"
   ]
  },
  {
   "cell_type": "code",
   "execution_count": null,
   "metadata": {},
   "outputs": [],
   "source": [
    "#groupedCandidateNumbers2 = groupedCandidateNumbers.reindex(new_index)\n",
    "groupedCandidateNumbersRelisted = groupedCandidateNumbers.loc[new_index]\n",
    "\n",
    "groupedCandidateNumbersRelisted\n",
    "\n",
    "# Export as JSON\n",
    "#groupedCandidateNumbers2.to_json(\"New_Groups.json\", orient='records')"
   ]
  },
  {
   "cell_type": "code",
   "execution_count": null,
   "metadata": {},
   "outputs": [],
   "source": [
    "print(set(groupedCandidateNumbersRelisted.index))"
   ]
  },
  {
   "cell_type": "code",
   "execution_count": null,
   "metadata": {},
   "outputs": [],
   "source": [
    "# Reset index\n",
    "groupedCandidateNumbersRelisted = groupedCandidateNumbersRelisted.reset_index()\n",
    "\n",
    "groupedCandidateNumbersRelisted"
   ]
  },
  {
   "cell_type": "code",
   "execution_count": null,
   "metadata": {},
   "outputs": [],
   "source": [
    "groupedCandidateNumbersRelisted.rename(columns={\n",
    "    'mostRelevantUni': 'University',\n",
    "    'mostRelevantField': 'Major',\n",
    "    'highestDegree': 'Highest degree',\n",
    "    'count': 'Number of Records'}, \n",
    "    inplace=True)"
   ]
  },
  {
   "cell_type": "markdown",
   "metadata": {},
   "source": [
    "### Remove empty university labels \"None\""
   ]
  },
  {
   "cell_type": "code",
   "execution_count": null,
   "metadata": {},
   "outputs": [],
   "source": [
    "# # Remove None university\n",
    "# # This is not necessary\n",
    "\n",
    "listCurrentYear = groupedCandidateNumbersRelisted #[groupedCandidateNumbersRelisted['University'] != 'Other']"
   ]
  },
  {
   "cell_type": "code",
   "execution_count": null,
   "metadata": {},
   "outputs": [],
   "source": [
    "listCurrentYear"
   ]
  },
  {
   "cell_type": "markdown",
   "metadata": {},
   "source": [
    "# Year"
   ]
  },
  {
   "cell_type": "code",
   "execution_count": null,
   "metadata": {},
   "outputs": [],
   "source": [
    "# Add year information as a new column\n",
    "# Applied to all rows\n",
    "listCurrentYear['Year'] = '2024'"
   ]
  },
  {
   "cell_type": "code",
   "execution_count": null,
   "metadata": {},
   "outputs": [],
   "source": [
    "listCurrentYear.keys()"
   ]
  },
  {
   "cell_type": "code",
   "execution_count": null,
   "metadata": {},
   "outputs": [],
   "source": [
    "pd.set_option('display.min_rows', 1000)\n",
    "\n",
    "\n",
    "listCurrentYear"
   ]
  },
  {
   "cell_type": "markdown",
   "metadata": {},
   "source": [
    "# Export as CSV and JSON"
   ]
  },
  {
   "cell_type": "code",
   "execution_count": null,
   "metadata": {},
   "outputs": [],
   "source": [
    "# Export as CSV\n",
    "df.to_csv(\"FP_candidates_2024.csv\")"
   ]
  },
  {
   "cell_type": "code",
   "execution_count": null,
   "metadata": {},
   "outputs": [],
   "source": [
    "# Export as JSON\n",
    "listCurrentYear.to_json(\"FP_Groups_2024.json\", orient='records')"
   ]
  },
  {
   "cell_type": "code",
   "execution_count": null,
   "metadata": {},
   "outputs": [],
   "source": [
    "print('Done! :)')"
   ]
  }
 ],
 "metadata": {
  "kernelspec": {
   "display_name": "base",
   "language": "python",
   "name": "python3"
  },
  "language_info": {
   "codemirror_mode": {
    "name": "ipython",
    "version": 3
   },
   "file_extension": ".py",
   "mimetype": "text/x-python",
   "name": "python",
   "nbconvert_exporter": "python",
   "pygments_lexer": "ipython3",
   "version": "3.10.13"
  }
 },
 "nbformat": 4,
 "nbformat_minor": 4
}
