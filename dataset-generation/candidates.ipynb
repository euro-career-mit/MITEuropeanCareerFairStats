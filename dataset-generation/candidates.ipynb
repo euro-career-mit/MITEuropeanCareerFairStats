{
 "cells": [
  {
   "cell_type": "markdown",
   "metadata": {
    "vscode": {
     "languageId": "plaintext"
    }
   },
   "source": [
    "# 2025 Rewrite\n",
    "\n",
    "Because this shouldn't need 2 notebooks (it's too confusing).\n",
    "\n",
    "I mostly tried to preserve the original data analysis code. This should work if you run it from start to finish.\n",
    "\n",
    "The main thing you need to change is the 'year' and the fields in the Data Cleaning section as well as `years` in the combining section."
   ]
  },
  {
   "cell_type": "code",
   "execution_count": 188,
   "metadata": {},
   "outputs": [],
   "source": [
    "import pandas as pd\n",
    "import numpy as np\n",
    "\n",
    "from jsonmerge import merge\n",
    "import json\n",
    "import pprint"
   ]
  },
  {
   "cell_type": "markdown",
   "metadata": {
    "vscode": {
     "languageId": "plaintext"
    }
   },
   "source": [
    "## Generate current year candidate data"
   ]
  },
  {
   "cell_type": "code",
   "execution_count": 189,
   "metadata": {},
   "outputs": [],
   "source": [
    "year = '2025' # change me"
   ]
  },
  {
   "cell_type": "markdown",
   "metadata": {},
   "source": [
    "### Data Cleaning"
   ]
  },
  {
   "cell_type": "code",
   "execution_count": 190,
   "metadata": {},
   "outputs": [],
   "source": [
    "student_reg_csv = f'./{year}/Student Registration-Candidate Database.csv'\n",
    "student_signin_csv = f'./{year}/Student Sign In-Grid view.csv'\n",
    "\n",
    "df_reg = pd.read_csv(student_reg_csv, header=0)\n",
    "df_signin = pd.read_csv(student_signin_csv, header=0)"
   ]
  },
  {
   "cell_type": "code",
   "execution_count": null,
   "metadata": {},
   "outputs": [
    {
     "name": "stdout",
     "output_type": "stream",
     "text": [
      "Fraction of randos that didn't sign up 0.1511627906976744\n",
      "People that didn't show up/people reg = 2019 / 2682\n",
      "{'Year': '2025', 'Number of Attendees': 2682}\n"
     ]
    }
   ],
   "source": [
    "df = pd.DataFrame()\n",
    "\n",
    "# Set up\n",
    "signin_cols = ['School', 'Major', 'Degree']\n",
    "reg_cols = ['School', 'Major Field of Study', 'Program']\n",
    "\n",
    "fieldString = 'Major'\n",
    "degreeFieldString = 'Degree'\n",
    "\n",
    "# Left join\n",
    "df = df_signin.merge(df_reg[['Email'] + reg_cols], on='Email', how='left', suffixes=('', '_reg'))\n",
    "reg_col_names = [col2 + ('' if col1 != col2 else '_reg') for col1, col2 in zip(signin_cols, reg_cols)]\n",
    "\n",
    "# For each column, fill NaNs in df_signin with values from df_reg\n",
    "for col1, col2 in zip(signin_cols, reg_col_names):\n",
    "    df[col1] = df[col1].fillna(df[col2])\n",
    "\n",
    "# Drop the extra *_reg columns if you don't need them anymore\n",
    "df = df.drop(columns=reg_col_names)\n",
    "print(\"Fraction of randos that didn't sign up\", df['School'].isna().mean())\n",
    "\n",
    "\n",
    "\n",
    "# antijoin\n",
    "df_extra = df_reg[~df_reg['Email'].isin(df_signin['Email'])]\n",
    "print(f\"People that didn't show up/people reg = {df_extra.shape[0]} / {df_reg.shape[0]}\")\n",
    "print('No of sign ups:' df_reg.shape[0])"
   ]
  },
  {
   "cell_type": "markdown",
   "metadata": {},
   "source": [
    "### Field of Study"
   ]
  },
  {
   "cell_type": "code",
   "execution_count": 192,
   "metadata": {},
   "outputs": [
    {
     "name": "stdout",
     "output_type": "stream",
     "text": [
      "Unique majors: 98\n",
      "Here are some sample majors grouped under computer science\n"
     ]
    },
    {
     "data": {
      "text/plain": [
       "['Computer Sciences, Artificial Intelligence (AI) & Machine Learning (ML)',\n",
       " 'Computer Sciences, Computer Science',\n",
       " 'Computer Sciences, Data Science',\n",
       " 'Computer Sciences, Web Design/Development',\n",
       " 'Computer Sciences, Information Technology',\n",
       " 'Computer Sciences, Computer Programming',\n",
       " 'Computer Sciences, Information Systems/Technology Management',\n",
       " 'Computer Sciences, Information Sciences & Systems',\n",
       " 'Computer Sciences, Management & Information Systems',\n",
       " 'Computer Sciences, Software Development',\n",
       " 'Computer Sciences, Hardware Technology',\n",
       " 'Computer Sciences, Data Analytics',\n",
       " 'Computer Sciences, Network Security & Cyber Intelligence',\n",
       " 'Computer Sciences, Combinatorics & Optimization',\n",
       " 'Computer Sciences, Computer Systems Analysis',\n",
       " 'Computer Sciences, Computer Networking/Administration']"
      ]
     },
     "execution_count": 192,
     "metadata": {},
     "output_type": "execute_result"
    }
   ],
   "source": [
    "print('Unique majors:', df[fieldString].nunique())\n",
    "\n",
    "\n",
    "names = df[fieldString].dropna().unique()\n",
    "names_cs = [n for n in names if n.find('Computer Sciences') != -1]\n",
    "names_eng = [n for n in names if n.find('Engineering') != -1]\n",
    "\n",
    "print('Here are some sample majors grouped under computer science')\n",
    "names_cs"
   ]
  },
  {
   "cell_type": "markdown",
   "metadata": {},
   "source": [
    "Now, we will summarize the majors into this attribute called `mostRelevantField`"
   ]
  },
  {
   "cell_type": "code",
   "execution_count": 193,
   "metadata": {},
   "outputs": [
    {
     "name": "stdout",
     "output_type": "stream",
     "text": [
      "563 fields have been renamed!\n"
     ]
    }
   ],
   "source": [
    "# In this list, the last items has the priority to override\n",
    "fieldRanking = ['marketing', 'industrial', 'supply chain', 'law', 'chemical', 'finance', 'economic',\n",
    "     'political', 'business', 'management', 'mba', 'civil', 'physics', 'mechanical', 'material', 'aerospace',\n",
    "     'electrical', 'electronic', 'computer', 'bio', 'analytics', 'data', 'artificial', 'machine learning']\n",
    "\n",
    "\n",
    "#create new column\n",
    "mostRelevantField = [\"Other\"]*len(df)\n",
    "\n",
    "# for each candidate (row)\n",
    "for i in range(len(df)): \n",
    "    # get candidate's fields of study\n",
    "    fieldsOfCandidate = df.loc[i, fieldString]\n",
    "    \n",
    "    if isinstance(fieldsOfCandidate, str):\n",
    "        # make lowercase if it is a string! \n",
    "        fieldsOfCandidate = fieldsOfCandidate.lower()\n",
    "        \n",
    "        # for each field (column) in the ranking list\n",
    "        for wantedColumn in fieldRanking: \n",
    "\n",
    "            if wantedColumn in fieldsOfCandidate:\n",
    "                mostRelevantField[i] = wantedColumn\n",
    "\n",
    "\n",
    "# for similar fields, use a synonym\n",
    "fieldSynonyms = {\n",
    "    \"artificial\": \"AI\",\n",
    "    \"machine learning\": \"AI\",\n",
    "    \n",
    "    \"data\": \"Data Science\",\n",
    "    \"analytics\": \"Data Science\",\n",
    "    \n",
    "    \"bio\": \"Biology\",\n",
    "    \n",
    "    \"computer\": \"CS\",\n",
    "    \n",
    "    \"aerospace\": \"Aero\",\n",
    "    \n",
    "    \"material\": \"Materials\",\n",
    "    \n",
    "    \"mechanical\": \"Mechanical Eng\",\n",
    "    \n",
    "    \"electrical\": \"Electrical Eng\",\n",
    "    \"electronic\": \"Electrical Eng\",\n",
    "    \n",
    "    \"physics\": \"Physics\",\n",
    "    \n",
    "    \"civil\": \"Civil Eng\",\n",
    "    \n",
    "    \"business\": \"Business\",\n",
    "    \"mba\": \"Business\",\n",
    "    \"management\": \"Business\",\n",
    "    \n",
    "    \"political\": \"Policital Sci\",\n",
    "    \n",
    "    \"economic\": \"Finance\",\n",
    "    \"finance\": \"Finance\",\n",
    "    \n",
    "    \"chemical\": \"Chemistry\",\n",
    "    \n",
    "    \"supply chain\": \"Industrial Eng\",\n",
    "    \"industrial\": \"Industrial Eng\",\n",
    "    \n",
    "    \"law\": \"Law\",\n",
    "    \n",
    "    \"marketing\": \"Marketing\",\n",
    "    \n",
    "}\n",
    "\n",
    "\n",
    "replacementCount = 0\n",
    "\n",
    "# for each candidate\n",
    "for i in range(len(mostRelevantField)):\n",
    "\n",
    "    # if the candidate's field is in fieldSynonyms\n",
    "    if mostRelevantField[i] in fieldSynonyms:\n",
    "\n",
    "        # replace it with the more common field name\n",
    "        mostRelevantField[i] = fieldSynonyms[mostRelevantField[i]]\n",
    "        \n",
    "        replacementCount = replacementCount+1\n",
    "      \n",
    "print(str(replacementCount) + \" fields have been renamed!\")\n",
    "df[\"mostRelevantField\"] = mostRelevantField"
   ]
  },
  {
   "cell_type": "markdown",
   "metadata": {},
   "source": [
    "### University Name"
   ]
  },
  {
   "cell_type": "code",
   "execution_count": 194,
   "metadata": {},
   "outputs": [
    {
     "data": {
      "text/plain": [
       "['Columbia',\n",
       " 'emerson',\n",
       " 'University of Dayton',\n",
       " 'Brown University',\n",
       " 'Broad Institute of MIT and Harcard',\n",
       " 'Walden University',\n",
       " 'Bard',\n",
       " 'Franklin Olin College of Engineering',\n",
       " 'University of Illinois at Urbana-Champaign',\n",
       " 'KU Leuven']"
      ]
     },
     "execution_count": 194,
     "metadata": {},
     "output_type": "execute_result"
    }
   ],
   "source": [
    "list(set(df['School']))[:10]"
   ]
  },
  {
   "cell_type": "code",
   "execution_count": 195,
   "metadata": {},
   "outputs": [
    {
     "name": "stdout",
     "output_type": "stream",
     "text": [
      "683 university names have been renamed!\n"
     ]
    }
   ],
   "source": [
    "# In this list, the last items has the priority to override\n",
    "uniRanking = ['university of connecticut',\n",
    "              'worcester polytechnic', 'wpi',\n",
    "              'wellesley college',\n",
    "              'university of massachusetts boston',\n",
    "              'dartmouth', 'dartmouth college', 'dartmouth university',\n",
    "              'brandeis', 'brandeis university',\n",
    "              'university of massachusetts amherst',\n",
    "              'boston college',\n",
    "              'tufts', 'tufts university',\n",
    "              'new york university', 'nyu',\n",
    "              'hult international', 'hult business',\n",
    "              'boston university',\n",
    "              'northeastern university', 'northeastern',\n",
    "              'harvard', 'harvard college', 'harvard university',\n",
    "              'massachusetts institute of technology', 'mit', 'smith college']\n",
    "\n",
    "\n",
    "#create new column\n",
    "mostRelevantUni = [\"Other\"]*len(df)\n",
    "\n",
    "# for each candidate (row)\n",
    "for i in range(len(df)): \n",
    "    # get candidate's fields of study\n",
    "    unisOfCandidate = df.loc[i, \"School\"]\n",
    "    \n",
    "    if isinstance(unisOfCandidate, str):\n",
    "        # make lowercase if it is a string! \n",
    "        unisOfCandidate = unisOfCandidate.lower()\n",
    "        \n",
    "        # for each field (column) in the ranking list\n",
    "        for wantedUniversity in uniRanking: \n",
    "            if wantedUniversity in unisOfCandidate:\n",
    "                mostRelevantUni[i] = wantedUniversity\n",
    "\n",
    "\n",
    "\n",
    "# For equivalent university names, use a single (unique) name\n",
    "\n",
    "uniSynonyms = {\n",
    "    \"massachusetts institute of technology\": \"MIT\",\n",
    "    \"mit\": \"MIT\",\n",
    "    \n",
    "    \"harvard\": \"Harvard\",\n",
    "    \"harvard college\": \"Harvard\",\n",
    "    \"harvard university\": \"Harvard\",\n",
    "    \n",
    "    \"hult international\": \"Hult Business\",\n",
    "    \"hult business\": \"Hult Business\",\n",
    "    \n",
    "    \"northeastern university\": \"Northeastern\",\n",
    "    \"northeastern\": \"Northeastern\",\n",
    "    \n",
    "    \"boston university\": \"BU\",\n",
    "    \n",
    "    \"tufts\": \"Tufts\",\n",
    "    \"tufts university\": \"Tufts\",\n",
    "    \n",
    "    \"dartmouth\": \"Dartmouth\",\n",
    "    \"dartmouth university\": \"Dartmouth\",\n",
    "    \"dartmouth college\": \"Dartmouth\",\n",
    "    \n",
    "    \"new york university\": \"NYU\",\n",
    "    \"nyu\": \"NYU\",\n",
    "        \n",
    "    \"boston college\": \"Boston College\",\n",
    "    \n",
    "    \"brandeis\": \"Brandeis\",\n",
    "    \"brandeis university\": \"Brandeis\",\n",
    "    \"wellesley\": \"Wellesley\",\n",
    "    \"wellesley college\": \"Wellesley\",\n",
    "    \n",
    "    \"university of massachusetts amherst\": \"UMass Amherst\",\n",
    "    \n",
    "    \"university of massachusetts boston\": \"UMass Boston\",\n",
    "    \n",
    "    \n",
    "    \"worcester polytechnic\": \"WPI\",\n",
    "    \"wpi\": \"WPI\",\n",
    "    \n",
    "    \"university of connecticut\": \"UConn\",\n",
    "    \n",
    "    \"smith college\": \"Smith\"\n",
    "    \n",
    "}\n",
    "\n",
    "\n",
    "\n",
    "\n",
    "replacementCount = 0\n",
    "\n",
    "# for each candidate\n",
    "for i in range(len(mostRelevantUni)):\n",
    "\n",
    "    # if the candidate's field is in fieldSynonyms\n",
    "    if mostRelevantUni[i] in uniSynonyms:\n",
    "\n",
    "        # replace it with the more common field name\n",
    "        mostRelevantUni[i] = uniSynonyms[mostRelevantUni[i]]\n",
    "        \n",
    "        replacementCount = replacementCount+1\n",
    "      \n",
    "print(str(replacementCount) + \" university names have been renamed!\")\n",
    "df[\"mostRelevantUni\"] = mostRelevantUni"
   ]
  },
  {
   "cell_type": "markdown",
   "metadata": {},
   "source": [
    "### Highest Degree"
   ]
  },
  {
   "cell_type": "code",
   "execution_count": 196,
   "metadata": {},
   "outputs": [
    {
     "data": {
      "text/plain": [
       "['Postgraduate Internship',\n",
       " 'Advanced Study Program',\n",
       " 'MBA',\n",
       " 'Staff',\n",
       " 'Undergraduate',\n",
       " 'Graduate Student',\n",
       " 'alumni',\n",
       " 'Gap year',\n",
       " 'Executive Sloan Fellow MBA',\n",
       " 'Postdoctoral']"
      ]
     },
     "execution_count": 196,
     "metadata": {},
     "output_type": "execute_result"
    }
   ],
   "source": [
    "# List unique degree names\n",
    "list(set(df[degreeFieldString]))[:10]"
   ]
  },
  {
   "cell_type": "code",
   "execution_count": 197,
   "metadata": {},
   "outputs": [
    {
     "name": "stdout",
     "output_type": "stream",
     "text": [
      "773 degree names have been renamed!\n"
     ]
    }
   ],
   "source": [
    "degreeRanking = ['high school', 'undergraduate','bachelor',\n",
    "     'master', 'mba', 'phd', 'doctorate',\n",
    "     'postdoc',  'post doc', 'md']\n",
    "\n",
    "\n",
    "\n",
    "\n",
    "#create new column\n",
    "highestDegree = [\"Other\"]*len(df)\n",
    "\n",
    "# for each candidate (row)\n",
    "for i in range(len(df)): \n",
    "    \n",
    "    # get candidate's fields of study\n",
    "    degreeOfCandidate = df.loc[i, degreeFieldString]\n",
    "    \n",
    "    if isinstance(degreeOfCandidate, str):\n",
    "        # make lowercase if it is a string! \n",
    "        degreeOfCandidate = degreeOfCandidate.lower()\n",
    "        \n",
    "        # for each field (column) in the ranking list\n",
    "        for preferredDegree in degreeRanking: \n",
    "\n",
    "            if preferredDegree in degreeOfCandidate:\n",
    "                highestDegree[i] = preferredDegree\n",
    "\n",
    "\n",
    "\n",
    "degreeSynonyms = {\n",
    "    \"high school\": \"High school\",\n",
    "    \n",
    "    \"undergraduate\": \"Bachelors\",\n",
    "    \"bachelor\": \"Bachelors\",\n",
    "    \n",
    "    \"master\": \"Masters\",\n",
    "    \n",
    "    \"mba\": \"MBA\",\n",
    "    \n",
    "    'phd': \"PhD\",\n",
    "    'doctorate': \"PhD\",\n",
    "    \n",
    "    \"postdoc\": \"Postdoc\",\n",
    "    \"post doc\": \"Postdoc\",\n",
    "    \n",
    "    'md': \"MD\"\n",
    "}\n",
    "\n",
    "\n",
    "\n",
    "\n",
    "\n",
    "replacementCount = 0\n",
    "\n",
    "# for each candidate\n",
    "for i in range(len(highestDegree)):\n",
    "\n",
    "    # if the candidate's field is in degreeSynonyms\n",
    "    if highestDegree[i] in degreeSynonyms:\n",
    "\n",
    "        # replace it with the more common name\n",
    "        highestDegree[i] = degreeSynonyms[highestDegree[i]]\n",
    "        \n",
    "        replacementCount = replacementCount+1\n",
    "      \n",
    "print(str(replacementCount) + \" degree names have been renamed!\")\n",
    "\n",
    "\n",
    "\n",
    "\n",
    "df[\"highestDegree\"] = highestDegree"
   ]
  },
  {
   "cell_type": "markdown",
   "metadata": {},
   "source": [
    "### Clean up"
   ]
  },
  {
   "cell_type": "code",
   "execution_count": 198,
   "metadata": {},
   "outputs": [
    {
     "data": {
      "text/plain": [
       "0                                 MIT\n",
       "1                                 MIT\n",
       "2                   Boston University\n",
       "3               University at Buffalo\n",
       "4       Washington and lee university\n",
       "                    ...              \n",
       "2671                            Tufts\n",
       "2678                Boston University\n",
       "2679                              JHU\n",
       "2680                     Northeastern\n",
       "2681                          Harvard\n",
       "Name: School, Length: 2019, dtype: object"
      ]
     },
     "execution_count": 198,
     "metadata": {},
     "output_type": "execute_result"
    }
   ],
   "source": [
    "df_extra['School']"
   ]
  },
  {
   "cell_type": "code",
   "execution_count": null,
   "metadata": {},
   "outputs": [],
   "source": []
  },
  {
   "cell_type": "code",
   "execution_count": 199,
   "metadata": {},
   "outputs": [
    {
     "name": "stdout",
     "output_type": "stream",
     "text": [
      "\n",
      "New index: \n",
      "\n",
      "{'Tufts', 'UConn', 'Harvard', 'BU', 'NYU', 'MIT', 'Northeastern', 'UMass Boston', 'Boston College', 'Other', 'Dartmouth', 'WPI', 'Hult Business', 'UMass Amherst'}\n",
      "                mostRelevantField highestDegree  count\n",
      "mostRelevantUni                                       \n",
      "BU                        Biology     Bachelors      4\n",
      "BU                        Biology       Masters      1\n",
      "BU                        Biology         Other      2\n",
      "BU                       Business     Bachelors      3\n",
      "BU                       Business           MBA      2\n"
     ]
    }
   ],
   "source": [
    "columnsToStay = ['Email',\n",
    "                 'mostRelevantField',\n",
    "                 'mostRelevantUni',\n",
    "                 'highestDegree']\n",
    "\n",
    "cols2group = ['mostRelevantUni', 'mostRelevantField', 'highestDegree']\n",
    "groupedCandidateNumbers = pd.DataFrame({'count': df[columnsToStay].groupby(cols2group).size()})\n",
    "\n",
    "#Source: https://stackoverflow.com/a/10374456\n",
    "\n",
    "groupedCandidateNumbers = groupedCandidateNumbers.reset_index().set_index('mostRelevantUni')\n",
    "print(\"\\nNew index: \\n\")\n",
    "print(set(groupedCandidateNumbers.index))\n",
    "print(groupedCandidateNumbers.head())"
   ]
  },
  {
   "cell_type": "code",
   "execution_count": 200,
   "metadata": {},
   "outputs": [
    {
     "name": "stdout",
     "output_type": "stream",
     "text": [
      "Missing (comment these out):  []\n",
      "{'Tufts', 'UConn', 'Northeastern', 'BU', 'NYU', 'Harvard', 'MIT', 'UMass Boston', 'Boston College', 'Other', 'Dartmouth', 'WPI', 'Hult Business', 'UMass Amherst'}\n"
     ]
    }
   ],
   "source": [
    "# Change uni name order\n",
    "# May need to delete some unis that didn't show up\n",
    "#Wellesley left out \n",
    "new_index = [\"MIT\", \"Harvard\", \"NYU\", \"Hult Business\",\n",
    "             \"Northeastern\", \"BU\", \"Tufts\", \"Dartmouth\",\n",
    "             #\"Brandeis\",\n",
    "             \"Boston College\", \n",
    "             \"UMass Amherst\", \"UMass Boston\", \"WPI\", \"UConn\", \"Other\"\n",
    "             #\"UMass Amherst\", \"UMass Boston\", \"WPI\", \"Other\"\n",
    "            ]\n",
    "\n",
    "new_index.reverse()\n",
    "\n",
    "# Show the difference between sets\n",
    "print('Missing (comment these out): ', list(set(new_index) - set(groupedCandidateNumbers.index)))\n",
    "\n",
    "\n",
    "groupedCandidateNumbersRelisted = groupedCandidateNumbers.loc[new_index]\n",
    "print(set(groupedCandidateNumbersRelisted.index))\n",
    "groupedCandidateNumbersRelisted = groupedCandidateNumbersRelisted.reset_index()\n",
    "groupedCandidateNumbersRelisted.rename(columns={\n",
    "    'mostRelevantUni': 'University',\n",
    "    'mostRelevantField': 'Major',\n",
    "    'highestDegree': 'Highest degree',\n",
    "    'count': 'Number of Records'}, \n",
    "    inplace=True)\n",
    "\n",
    "\n",
    "# Add year information as a new column\n",
    "# Applied to all rows\n",
    "listCurrentYear = groupedCandidateNumbersRelisted\n",
    "listCurrentYear['Year'] = year"
   ]
  },
  {
   "cell_type": "markdown",
   "metadata": {},
   "source": [
    "### Export as CSV and JSON"
   ]
  },
  {
   "cell_type": "code",
   "execution_count": 201,
   "metadata": {},
   "outputs": [
    {
     "name": "stdout",
     "output_type": "stream",
     "text": [
      "Wrote to \"./2025/FP_candidates_2025.csv\"\n",
      "Wrote to \"./2025/FP_Groups_2025.json\"\n"
     ]
    }
   ],
   "source": [
    "# Export as CSV\n",
    "df.to_csv(f\"./{year}/FP_candidates_{year}.csv\")\n",
    "print(f'Wrote to \"./{year}/FP_candidates_{year}.csv\"')\n",
    "\n",
    "# Export as JSON\n",
    "listCurrentYear.to_json(f\"./{year}/FP_Groups_{year}.json\", orient='records')\n",
    "print(f'Wrote to \"./{year}/FP_Groups_{year}.json\"')"
   ]
  },
  {
   "cell_type": "markdown",
   "metadata": {},
   "source": [
    "The end"
   ]
  },
  {
   "cell_type": "markdown",
   "metadata": {},
   "source": [
    "## Combine data"
   ]
  },
  {
   "cell_type": "code",
   "execution_count": 202,
   "metadata": {},
   "outputs": [],
   "source": [
    "years = ['2020', '2021', '2022', '2024', '2025']\n",
    "outfile = \"../docs/data/FP_Candidate_Groups_All.json\"\n",
    "\n",
    "def cat_json(outfile, years):\n",
    "    file = open(outfile, \"w\")\n",
    "    file.write(\"[%s]\" % (\",\".join([mangle(file(\"FP_Groups_\" + y + \".json\").read()) for y in years])))\n",
    "\n",
    "def mangle(s):\n",
    "    return s.strip()[1:-1]"
   ]
  },
  {
   "cell_type": "code",
   "execution_count": 204,
   "metadata": {},
   "outputs": [
    {
     "name": "stdout",
     "output_type": "stream",
     "text": [
      "Wrote data from 5 years to ../docs/data/FP_Candidate_Groups_All.json\n"
     ]
    }
   ],
   "source": [
    "jsons = []\n",
    "for idx, y in enumerate(years):\n",
    "    with open(f\"./{y}/FP_Groups_{y}.json\", \"r\") as jsonFile:\n",
    "        currentJson = jsonFile.read()\n",
    "        jsons.append(mangle(currentJson))\n",
    "jsonList = \"[\" + ','.join(jsons) + ']'\n",
    "\n",
    "file = open(outfile, \"w\")\n",
    "file.write(jsonList)\n",
    "print(f'Wrote data from {len(years)} years to {outfile}')"
   ]
  }
 ],
 "metadata": {
  "kernelspec": {
   "display_name": ".venv",
   "language": "python",
   "name": "python3"
  },
  "language_info": {
   "codemirror_mode": {
    "name": "ipython",
    "version": 3
   },
   "file_extension": ".py",
   "mimetype": "text/x-python",
   "name": "python",
   "nbconvert_exporter": "python",
   "pygments_lexer": "ipython3",
   "version": "3.13.1"
  }
 },
 "nbformat": 4,
 "nbformat_minor": 2
}
