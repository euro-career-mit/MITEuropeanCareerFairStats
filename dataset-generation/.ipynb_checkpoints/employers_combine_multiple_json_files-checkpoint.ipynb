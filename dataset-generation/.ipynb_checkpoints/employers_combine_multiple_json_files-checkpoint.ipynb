{
 "cells": [
  {
   "cell_type": "code",
   "execution_count": 1,
   "metadata": {},
   "outputs": [],
   "source": [
    "from jsonmerge import merge\n",
    "import json\n",
    "import pprint"
   ]
  },
  {
   "cell_type": "code",
   "execution_count": 2,
   "metadata": {},
   "outputs": [],
   "source": [
    "files2read = [\"2023\", \"All\"]\n",
    "\n",
    "outfile = \"FP_Employers_All.json\""
   ]
  },
  {
   "cell_type": "code",
   "execution_count": 3,
   "metadata": {},
   "outputs": [],
   "source": [
    "def cat_json(outfile, infiles):\n",
    "    \n",
    "    file = open(outfile, \"w\")\n",
    "    file.write(\"[%s]\" % (\",\".join([mangle(file(\"FP_Employers_\" + f + \".json\").read()) for f in infiles])))\n",
    "\n",
    "def mangle(s):\n",
    "    return s.strip()[1:-1]"
   ]
  },
  {
   "cell_type": "code",
   "execution_count": 4,
   "metadata": {},
   "outputs": [
    {
     "name": "stdout",
     "output_type": "stream",
     "text": [
      "{\"Country\":\"Austria\",\"id\":\"040\",\"Number of Records\":1,\"Year\":\"2020\"},{\"Country\":\"Belgium\",\"id\":\"056\",\"Number of Records\":3,\"Year\":\"2020\"},{\"Country\":\"Denmark\",\"id\":\"208\",\"Number of Records\":12,\"Year\":\"2020\"},{\"Country\":\"France\",\"id\":\"250\",\"Number of Records\":14,\"Year\":\"2020\"},{\"Country\":\"Germany\",\"id\":\"276\",\"Number of Records\":24,\"Year\":\"2020\"},{\"Country\":\"Greece\",\"id\":\"300\",\"Number of Records\":3,\"Year\":\"2020\"},{\"Country\":\"Netherlands\",\"id\":\"528\",\"Number of Records\":15,\"Year\":\"2020\"},{\"Country\":\"Spain\",\"id\":\"724\",\"Number of Records\":2,\"Year\":\"2020\"},{\"Country\":\"Switzerland\",\"id\":\"756\",\"Number of Records\":7,\"Year\":\"2020\"},{\"Country\":\"United Kingdom of Great Britain and Northern Ireland\",\"id\":\"826\",\"Number of Records\":1,\"Year\":\"2020\"},{\"Country\":\"United States of America\",\"id\":\"840\",\"Number of Records\":22,\"Year\":\"2020\"}\n",
      "0\n",
      "\n",
      "\n",
      "{\"Country\":\"Austria\",\"id\":\"040\",\"Number of Records\":1,\"Year\":\"2019\"},{\"Country\":\"Belgium\",\"id\":\"056\",\"Number of Records\":1,\"Year\":\"2019\"},{\"Country\":\"Canada\",\"id\":\"124\",\"Number of Records\":1,\"Year\":\"2019\"},{\"Country\":\"Denmark\",\"id\":\"208\",\"Number of Records\":8,\"Year\":\"2019\"},{\"Country\":\"France\",\"id\":\"250\",\"Number of Records\":9,\"Year\":\"2019\"},{\"Country\":\"Germany\",\"id\":\"276\",\"Number of Records\":28,\"Year\":\"2019\"},{\"Country\":\"Italy\",\"id\":\"380\",\"Number of Records\":2,\"Year\":\"2019\"},{\"Country\":\"Netherlands\",\"id\":\"528\",\"Number of Records\":12,\"Year\":\"2019\"},{\"Country\":\"Spain\",\"id\":\"724\",\"Number of Records\":2,\"Year\":\"2019\"},{\"Country\":\"Sweden\",\"id\":\"752\",\"Number of Records\":1,\"Year\":\"2019\"},{\"Country\":\"Switzerland\",\"id\":\"756\",\"Number of Records\":7,\"Year\":\"2019\"},{\"Country\":\"United Kingdom of Great Britain and Northern Ireland\",\"id\":\"826\",\"Number of Records\":3,\"Year\":\"2019\"},{\"Country\":\"United States of America\",\"id\":\"840\",\"Number of Records\":20,\"Year\":\"2019\"}\n",
      "1\n",
      "\n",
      "\n",
      "{\"Country\":\"Belgium\",\"id\":\"056\",\"Number of Records\":2,\"Year\":\"2018\"},{\"Country\":\"Denmark\",\"id\":\"208\",\"Number of Records\":5,\"Year\":\"2018\"},{\"Country\":\"France\",\"id\":\"250\",\"Number of Records\":13,\"Year\":\"2018\"},{\"Country\":\"Germany\",\"id\":\"276\",\"Number of Records\":26,\"Year\":\"2018\"},{\"Country\":\"Hungary\",\"id\":\"348\",\"Number of Records\":1,\"Year\":\"2018\"},{\"Country\":\"Ireland\",\"id\":\"372\",\"Number of Records\":2,\"Year\":\"2018\"},{\"Country\":\"Netherlands\",\"id\":\"528\",\"Number of Records\":11,\"Year\":\"2018\"},{\"Country\":\"Spain\",\"id\":\"724\",\"Number of Records\":5,\"Year\":\"2018\"},{\"Country\":\"Switzerland\",\"id\":\"756\",\"Number of Records\":9,\"Year\":\"2018\"},{\"Country\":\"UK\",\"id\":\"000\",\"Number of Records\":1,\"Year\":\"2018\"},{\"Country\":\"United Kingdom of Great Britain and Northern Ireland\",\"id\":\"826\",\"Number of Records\":3,\"Year\":\"2018\"},{\"Country\":\"United States of America\",\"id\":\"840\",\"Number of Records\":23,\"Year\":\"2018\"}\n",
      "2\n",
      "\n",
      "\n",
      "{\"Country\":\"Austria\",\"id\":\"040\",\"Number of Records\":1,\"Year\":\"2017\"},{\"Country\":\"Belgium\",\"id\":\"056\",\"Number of Records\":2,\"Year\":\"2017\"},{\"Country\":\"Denmark\",\"id\":\"208\",\"Number of Records\":5,\"Year\":\"2017\"},{\"Country\":\"France\",\"id\":\"250\",\"Number of Records\":11,\"Year\":\"2017\"},{\"Country\":\"Germany\",\"id\":\"276\",\"Number of Records\":25,\"Year\":\"2017\"},{\"Country\":\"Ireland\",\"id\":\"372\",\"Number of Records\":1,\"Year\":\"2017\"},{\"Country\":\"Netherlands\",\"id\":\"528\",\"Number of Records\":11,\"Year\":\"2017\"},{\"Country\":\"Spain\",\"id\":\"724\",\"Number of Records\":1,\"Year\":\"2017\"},{\"Country\":\"Sweden\",\"id\":\"752\",\"Number of Records\":1,\"Year\":\"2017\"},{\"Country\":\"Switzerland\",\"id\":\"756\",\"Number of Records\":7,\"Year\":\"2017\"},{\"Country\":\"United Kingdom of Great Britain and Northern Ireland\",\"id\":\"826\",\"Number of Records\":2,\"Year\":\"2017\"},{\"Country\":\"United States of America\",\"id\":\"840\",\"Number of Records\":23,\"Year\":\"2017\"}\n",
      "3\n",
      "\n",
      "\n"
     ]
    }
   ],
   "source": [
    "if __name__== \"__main__\":\n",
    "    \n",
    "    jsonList = \"[\"\n",
    "\n",
    "    for idx, filename in enumerate(files2read):\n",
    "\n",
    "        jsonFile = open(\"FP_Employers_\" + filename + \".json\", \"r\")\n",
    "        currentJson = jsonFile.read()\n",
    "\n",
    "        #print(json.dumps(currentJson, ensure_ascii=False, indent=2))\n",
    "        \n",
    "        print(mangle(currentJson))\n",
    "        print(idx)\n",
    "        \n",
    "        \n",
    "        print(\"\\n\")\n",
    "\n",
    "        jsonList  = jsonList + mangle(currentJson)\n",
    "        \n",
    "        if(idx<len(files2read)-1):\n",
    "            jsonList  = jsonList + \",\"\n",
    "\n",
    "    jsonList  = jsonList + \"]\"\n",
    "     "
   ]
  },
  {
   "cell_type": "code",
   "execution_count": 5,
   "metadata": {},
   "outputs": [
    {
     "name": "stdout",
     "output_type": "stream",
     "text": [
      "[{\"Country\":\"Austria\",\"id\":\"040\",\"Number of Records\":1,\"Year\":\"2020\"},{\"Country\":\"Belgium\",\"id\":\"056\",\"Number of Records\":3,\"Year\":\"2020\"},{\"Country\":\"Denmark\",\"id\":\"208\",\"Number of Records\":12,\"Year\":\"2020\"},{\"Country\":\"France\",\"id\":\"250\",\"Number of Records\":14,\"Year\":\"2020\"},{\"Country\":\"Germany\",\"id\":\"276\",\"Number of Records\":24,\"Year\":\"2020\"},{\"Country\":\"Greece\",\"id\":\"300\",\"Number of Records\":3,\"Year\":\"2020\"},{\"Country\":\"Netherlands\",\"id\":\"528\",\"Number of Records\":15,\"Year\":\"2020\"},{\"Country\":\"Spain\",\"id\":\"724\",\"Number of Records\":2,\"Year\":\"2020\"},{\"Country\":\"Switzerland\",\"id\":\"756\",\"Number of Records\":7,\"Year\":\"2020\"},{\"Country\":\"United Kingdom of Great Britain and Northern Ireland\",\"id\":\"826\",\"Number of Records\":1,\"Year\":\"2020\"},{\"Country\":\"United States of America\",\"id\":\"840\",\"Number of Records\":22,\"Year\":\"2020\"},{\"Country\":\"Austria\",\"id\":\"040\",\"Number of Records\":1,\"Year\":\"2019\"},{\"Country\":\"Belgium\",\"id\":\"056\",\"Number of Records\":1,\"Year\":\"2019\"},{\"Country\":\"Canada\",\"id\":\"124\",\"Number of Records\":1,\"Year\":\"2019\"},{\"Country\":\"Denmark\",\"id\":\"208\",\"Number of Records\":8,\"Year\":\"2019\"},{\"Country\":\"France\",\"id\":\"250\",\"Number of Records\":9,\"Year\":\"2019\"},{\"Country\":\"Germany\",\"id\":\"276\",\"Number of Records\":28,\"Year\":\"2019\"},{\"Country\":\"Italy\",\"id\":\"380\",\"Number of Records\":2,\"Year\":\"2019\"},{\"Country\":\"Netherlands\",\"id\":\"528\",\"Number of Records\":12,\"Year\":\"2019\"},{\"Country\":\"Spain\",\"id\":\"724\",\"Number of Records\":2,\"Year\":\"2019\"},{\"Country\":\"Sweden\",\"id\":\"752\",\"Number of Records\":1,\"Year\":\"2019\"},{\"Country\":\"Switzerland\",\"id\":\"756\",\"Number of Records\":7,\"Year\":\"2019\"},{\"Country\":\"United Kingdom of Great Britain and Northern Ireland\",\"id\":\"826\",\"Number of Records\":3,\"Year\":\"2019\"},{\"Country\":\"United States of America\",\"id\":\"840\",\"Number of Records\":20,\"Year\":\"2019\"},{\"Country\":\"Belgium\",\"id\":\"056\",\"Number of Records\":2,\"Year\":\"2018\"},{\"Country\":\"Denmark\",\"id\":\"208\",\"Number of Records\":5,\"Year\":\"2018\"},{\"Country\":\"France\",\"id\":\"250\",\"Number of Records\":13,\"Year\":\"2018\"},{\"Country\":\"Germany\",\"id\":\"276\",\"Number of Records\":26,\"Year\":\"2018\"},{\"Country\":\"Hungary\",\"id\":\"348\",\"Number of Records\":1,\"Year\":\"2018\"},{\"Country\":\"Ireland\",\"id\":\"372\",\"Number of Records\":2,\"Year\":\"2018\"},{\"Country\":\"Netherlands\",\"id\":\"528\",\"Number of Records\":11,\"Year\":\"2018\"},{\"Country\":\"Spain\",\"id\":\"724\",\"Number of Records\":5,\"Year\":\"2018\"},{\"Country\":\"Switzerland\",\"id\":\"756\",\"Number of Records\":9,\"Year\":\"2018\"},{\"Country\":\"UK\",\"id\":\"000\",\"Number of Records\":1,\"Year\":\"2018\"},{\"Country\":\"United Kingdom of Great Britain and Northern Ireland\",\"id\":\"826\",\"Number of Records\":3,\"Year\":\"2018\"},{\"Country\":\"United States of America\",\"id\":\"840\",\"Number of Records\":23,\"Year\":\"2018\"},{\"Country\":\"Austria\",\"id\":\"040\",\"Number of Records\":1,\"Year\":\"2017\"},{\"Country\":\"Belgium\",\"id\":\"056\",\"Number of Records\":2,\"Year\":\"2017\"},{\"Country\":\"Denmark\",\"id\":\"208\",\"Number of Records\":5,\"Year\":\"2017\"},{\"Country\":\"France\",\"id\":\"250\",\"Number of Records\":11,\"Year\":\"2017\"},{\"Country\":\"Germany\",\"id\":\"276\",\"Number of Records\":25,\"Year\":\"2017\"},{\"Country\":\"Ireland\",\"id\":\"372\",\"Number of Records\":1,\"Year\":\"2017\"},{\"Country\":\"Netherlands\",\"id\":\"528\",\"Number of Records\":11,\"Year\":\"2017\"},{\"Country\":\"Spain\",\"id\":\"724\",\"Number of Records\":1,\"Year\":\"2017\"},{\"Country\":\"Sweden\",\"id\":\"752\",\"Number of Records\":1,\"Year\":\"2017\"},{\"Country\":\"Switzerland\",\"id\":\"756\",\"Number of Records\":7,\"Year\":\"2017\"},{\"Country\":\"United Kingdom of Great Britain and Northern Ireland\",\"id\":\"826\",\"Number of Records\":2,\"Year\":\"2017\"},{\"Country\":\"United States of America\",\"id\":\"840\",\"Number of Records\":23,\"Year\":\"2017\"}]\n"
     ]
    }
   ],
   "source": [
    "#jsonList = json.dumpa(jsonList, ensure_ascii=False, indent=2)\n",
    "\n",
    "#json.dump(date, fileToSave, ensure_ascii=True, indent=4, sort_keys=True)\n",
    "\n",
    "#jsonList = pprint.pprint(jsonList)\n",
    "\n",
    "print(jsonList)"
   ]
  },
  {
   "cell_type": "code",
   "execution_count": 10,
   "metadata": {},
   "outputs": [],
   "source": [
    "file = open(outfile, \"w\")"
   ]
  },
  {
   "cell_type": "code",
   "execution_count": 11,
   "metadata": {},
   "outputs": [
    {
     "data": {
      "text/plain": [
       "3586"
      ]
     },
     "execution_count": 11,
     "metadata": {},
     "output_type": "execute_result"
    }
   ],
   "source": [
    "file.write(jsonList)"
   ]
  },
  {
   "cell_type": "code",
   "execution_count": 7,
   "metadata": {},
   "outputs": [
    {
     "data": {
      "text/plain": [
       "4"
      ]
     },
     "execution_count": 7,
     "metadata": {},
     "output_type": "execute_result"
    }
   ],
   "source": [
    "len(files2read)"
   ]
  },
  {
   "cell_type": "code",
   "execution_count": 8,
   "metadata": {},
   "outputs": [
    {
     "name": "stdout",
     "output_type": "stream",
     "text": [
      "FP_Employers_All.json\n"
     ]
    }
   ],
   "source": [
    "print(outfile)"
   ]
  },
  {
   "cell_type": "code",
   "execution_count": null,
   "metadata": {},
   "outputs": [],
   "source": []
  }
 ],
 "metadata": {
  "kernelspec": {
   "display_name": "Python 3 (ipykernel)",
   "language": "python",
   "name": "python3"
  },
  "language_info": {
   "codemirror_mode": {
    "name": "ipython",
    "version": 3
   },
   "file_extension": ".py",
   "mimetype": "text/x-python",
   "name": "python",
   "nbconvert_exporter": "python",
   "pygments_lexer": "ipython3",
   "version": "3.11.2"
  }
 },
 "nbformat": 4,
 "nbformat_minor": 4
}
